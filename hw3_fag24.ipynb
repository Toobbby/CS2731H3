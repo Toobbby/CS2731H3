{
 "cells": [
  {
   "cell_type": "markdown",
   "metadata": {},
   "source": [
    "# Classification and Vector Semantics\n",
    "\n",
    "CS2731 Homework 3, Fall 2020\n",
    "\n",
    "## Author\n",
    "[Fangzheng Guo](fag24@pitt.edu)"
   ]
  },
  {
   "cell_type": "markdown",
   "metadata": {},
   "source": [
    "### Task 1: Global experimental framework set up, make appropriate cross-validation splits."
   ]
  },
  {
   "cell_type": "code",
   "execution_count": 102,
   "metadata": {},
   "outputs": [],
   "source": [
    "# import\n",
    "import pandas as pd\n",
    "import re\n",
    "import numpy as np\n",
    "from sklearn.model_selection import train_test_split\n",
    "from sklearn.feature_extraction.text import CountVectorizer\n",
    "from sklearn.feature_extraction.text import TfidfVectorizer\n",
    "from sklearn.model_selection import cross_val_score\n",
    "from sklearn.dummy import DummyClassifier\n",
    "from sklearn.linear_model import LogisticRegression\n",
    "from sklearn.metrics import accuracy_score"
   ]
  },
  {
   "cell_type": "code",
   "execution_count": 103,
   "metadata": {},
   "outputs": [
    {
     "name": "stderr",
     "output_type": "stream",
     "text": [
      "[nltk_data] Downloading package stopwords to /Users/fguo/nltk_data...\n",
      "[nltk_data]   Package stopwords is already up-to-date!\n"
     ]
    }
   ],
   "source": [
    "# import\n",
    "from scipy.stats import ttest_ind\n",
    "from imblearn.over_sampling import RandomOverSampler\n",
    "import nltk\n",
    "nltk.download('stopwords')\n",
    "from nltk.tokenize import word_tokenize\n",
    "from nltk.stem import PorterStemmer\n",
    "from nltk.corpus import stopwords"
   ]
  },
  {
   "cell_type": "code",
   "execution_count": 104,
   "metadata": {},
   "outputs": [],
   "source": [
    "# split(80% training, 20% testing)\n",
    "def get_data():\n",
    "    df = pd.read_excel(\"SFUcorpus.xlsx\")\n",
    "    X = df['comment_text']\n",
    "    Y = df['is_constructive']\n",
    "\n",
    "    X_train, X_test, Y_train, Y_test = train_test_split(X, Y, test_size = 0.2, train_size = 0.8, random_state = 42)\n",
    "    \n",
    "    # drop empty lines\n",
    "    X_train.dropna(axis=0, how='any', inplace=True)\n",
    "    X_test.dropna(axis=0, how='any', inplace=True)\n",
    "    \n",
    "    return X_train, X_test, Y_train, Y_test"
   ]
  },
  {
   "cell_type": "markdown",
   "metadata": {},
   "source": [
    "### Task 2: \n",
    "#### Extract and preprocess the comment text to determine the vocabulary set.\n",
    "for preprocessing, my approach includes:\n",
    "- remove all symbols (for example '.', '?') in text, convert all characters to lower-case\n",
    "- remove stopwords (useless words) in text\n",
    "- use Porter Stemmer to do stemming for every word left in text"
   ]
  },
  {
   "cell_type": "code",
   "execution_count": 105,
   "metadata": {},
   "outputs": [],
   "source": [
    "stop_words = set(stopwords.words('english'))\n",
    "def preprocessing(comment, remove_stopwords, stemming):\n",
    "    comment = re.sub('[^a-z0-9\\s]', '', comment.lower())\n",
    "    word_list = comment.split(' ')\n",
    "    if remove_stopwords:\n",
    "        word_list = [word for word in word_list if word not in stop_words]\n",
    "    if stemming:\n",
    "        porter_stemmer = PorterStemmer()\n",
    "        for i in range(len(word_list)):\n",
    "            word_list[i] = porter_stemmer.stem(word_list[i])\n",
    "    return ' '.join(word_list)"
   ]
  },
  {
   "cell_type": "markdown",
   "metadata": {},
   "source": [
    "#### Train a logistic regression classifier using bag of words, record the performance of your logistic regression classifier using cross-validation."
   ]
  },
  {
   "cell_type": "code",
   "execution_count": 106,
   "metadata": {},
   "outputs": [],
   "source": [
    "def process_bag_of_words(remove_stopwords, stemming):\n",
    "    X_train, X_test, Y_train, Y_test = get_data()\n",
    "    \n",
    "    X_train = X_train.apply(lambda comment: preprocessing(comment, remove_stopwords, stemming))\n",
    "    X_test = X_test.apply(lambda comment: preprocessing(comment, remove_stopwords, stemming))\n",
    "    \n",
    "    count_vectorizer = CountVectorizer()\n",
    "    X_train_bag_of_words = count_vectorizer.fit_transform(X_train)\n",
    "    \n",
    "    ## majority-vote classifier\n",
    "    majority = DummyClassifier(strategy='most_frequent', random_state=None, constant=None)\n",
    "\n",
    "    ## logistic regression\n",
    "    lgm = LogisticRegression(C=10, random_state=0, solver='newton-cg', multi_class='multinomial')\n",
    "    \n",
    "    scores_majority = cross_val_score(majority, X_train_bag_of_words, Y_train, cv=5)\n",
    "    scores_lgm_BOW = cross_val_score(lgm, X_train_bag_of_words, Y_train, cv=5)\n",
    "    \n",
    "    statistic, p_value = ttest_ind(scores_lgm_BOW, scores_majority)\n",
    "    \n",
    "    print(\"average accuracy of majority model: \", np.mean(scores_majority))\n",
    "    print(\"average accuracy of logistic regression model: \", np.mean(scores_lgm_BOW))\n",
    "    print(\"p value: \", '%.20f' % p_value)"
   ]
  },
  {
   "cell_type": "code",
   "execution_count": 107,
   "metadata": {},
   "outputs": [
    {
     "name": "stdout",
     "output_type": "stream",
     "text": [
      "average accuracy of majority model:  0.5251789020925447\n",
      "average accuracy of logistic regression model:  0.8392377894812784\n",
      "p value:  0.00000001319950393971\n"
     ]
    }
   ],
   "source": [
    "process_bag_of_words(remove_stopwords = False, stemming = False)"
   ]
  },
  {
   "cell_type": "markdown",
   "metadata": {},
   "source": [
    "### Task 3: two improvements to logistic regression classifier\n",
    "#### Sparse vector semantic representation.\n"
   ]
  },
  {
   "cell_type": "code",
   "execution_count": 108,
   "metadata": {},
   "outputs": [],
   "source": [
    "def process_tf_idf(remove_stopwords, stemming):\n",
    "    X_train, X_test, Y_train, Y_test = get_data()\n",
    "    \n",
    "    X_train = X_train.apply(lambda comment: preprocessing(comment, remove_stopwords, stemming))\n",
    "    X_test = X_test.apply(lambda comment: preprocessing(comment, remove_stopwords, stemming))\n",
    "    \n",
    "    tf_idf_vectorizer = TfidfVectorizer()\n",
    "    X_train_tf_idf = tf_idf_vectorizer.fit_transform(X_train)\n",
    "    \n",
    "    ## majority-vote classifier\n",
    "    majority = DummyClassifier(strategy='most_frequent', random_state=None, constant=None)\n",
    "\n",
    "    ## logistic regression\n",
    "    lgm = LogisticRegression(C=10, random_state=0, solver='newton-cg', multi_class='multinomial')\n",
    "    \n",
    "    scores_majority = cross_val_score(majority, X_train_tf_idf, Y_train, cv=5)\n",
    "    scores_lgm_TFIDF = cross_val_score(lgm, X_train_tf_idf, Y_train, cv=5)\n",
    "    statistic, p_value = ttest_ind(scores_lgm_TFIDF, scores_majority)\n",
    "    \n",
    "    print(\"average accuracy of majority model: \", np.mean(scores_majority))\n",
    "    print(\"average accuracy of logistic regression model: \", np.mean(scores_lgm_TFIDF))\n",
    "    print(\"p value: \", '%.20f' % p_value)"
   ]
  },
  {
   "cell_type": "code",
   "execution_count": 109,
   "metadata": {
    "scrolled": true
   },
   "outputs": [
    {
     "name": "stdout",
     "output_type": "stream",
     "text": [
      "average accuracy of majority model:  0.5251789020925447\n",
      "average accuracy of logistic regression model:  0.8596118434387678\n",
      "p value:  0.00000001508479227388\n"
     ]
    }
   ],
   "source": [
    "process_tf_idf(remove_stopwords = False, stemming = False)"
   ]
  },
  {
   "cell_type": "markdown",
   "metadata": {},
   "source": [
    "#### Dense vector semantic representation.\n",
    "\n",
    "Use pre-trained word vectors [GloVe](https://nlp.stanford.edu/projects/glove/) to get the dense vector of comments in training set."
   ]
  },
  {
   "cell_type": "code",
   "execution_count": 110,
   "metadata": {},
   "outputs": [],
   "source": [
    "def read_glove():\n",
    "    res = dict()\n",
    "    with open('glove.6B.50d.txt', encoding = 'utf-8') as file:\n",
    "        for line in file:\n",
    "            values = line.split(' ')\n",
    "            word = values[0]\n",
    "            vectors = np.asarray(values[1:], dtype = 'float32')\n",
    "            res[word] = vectors\n",
    "    return res"
   ]
  },
  {
   "cell_type": "code",
   "execution_count": 111,
   "metadata": {},
   "outputs": [],
   "source": [
    "vector_map = read_glove()"
   ]
  },
  {
   "cell_type": "code",
   "execution_count": 112,
   "metadata": {},
   "outputs": [],
   "source": [
    "def process_word2vec(remove_stopwords, stemming):\n",
    "    X_train, X_test, Y_train, Y_test = get_data()\n",
    "    \n",
    "    X_train = X_train.apply(lambda comment: preprocessing(comment, remove_stopwords, stemming))\n",
    "    X_test = X_test.apply(lambda comment: preprocessing(comment, remove_stopwords, stemming))\n",
    "    \n",
    "    dense_vectors = []\n",
    "    for comment in X_train:\n",
    "        dense_vector = np.zeros(50)\n",
    "        word_count = 0\n",
    "        tokens = word_tokenize(comment)\n",
    "        for word in tokens:\n",
    "            if word in vector_map:\n",
    "                dense_vector += map[word]\n",
    "                word_count += 1\n",
    "        if word_count == 0:\n",
    "            dense_vectors.append(dense_vector)\n",
    "        else:\n",
    "            dense_vectors.append(dense_vector / word_count)\n",
    "    \n",
    "    X_train_word2vec = pd.DataFrame(dense_vectors)\n",
    "    \n",
    "    ## majority-vote classifier\n",
    "    majority = DummyClassifier(strategy='most_frequent', random_state=None, constant=None)\n",
    "\n",
    "    ## logistic regression\n",
    "    lgm = LogisticRegression(C=10, random_state=0, solver='newton-cg', multi_class='multinomial')\n",
    "    \n",
    "    scores_majority = cross_val_score(majority, X_train_word2vec, Y_train, cv=5)\n",
    "    scores_lgm_word2vec = cross_val_score(lgm, X_train_word2vec, Y_train, cv=5)\n",
    "    statistic, p_value = ttest_ind(scores_lgm_word2vec, scores_majority)\n",
    "\n",
    "    print(\"average accuracy of majority model: \", np.mean(scores_majority))\n",
    "    print(\"average accuracy of logistic regression model: \", np.mean(scores_lgm_word2vec))\n",
    "    print(\"p value: \", '%.20f' % p_value)"
   ]
  },
  {
   "cell_type": "code",
   "execution_count": 113,
   "metadata": {},
   "outputs": [
    {
     "name": "stdout",
     "output_type": "stream",
     "text": [
      "average accuracy of majority model:  0.5251789020925447\n",
      "average accuracy of logistic regression model:  0.6856825076181543\n",
      "p value:  0.00080723766474663798\n"
     ]
    }
   ],
   "source": [
    "process_word2vec(remove_stopwords=False, stemming=False)"
   ]
  },
  {
   "cell_type": "markdown",
   "metadata": {},
   "source": [
    "#### Cross-validation performance testing\n",
    "Test the performance of three logistic regression models, with/without preprocessing steps. Please see the table in report."
   ]
  },
  {
   "cell_type": "code",
   "execution_count": 114,
   "metadata": {},
   "outputs": [
    {
     "name": "stdout",
     "output_type": "stream",
     "text": [
      "average accuracy of majority model:  0.5251789020925447\n",
      "average accuracy of logistic regression model:  0.8392377894812784\n",
      "p value:  0.00000001319950393971\n",
      "average accuracy of majority model:  0.5251789020925447\n",
      "average accuracy of logistic regression model:  0.8176518735334838\n",
      "p value:  0.00000000677103120742\n",
      "average accuracy of majority model:  0.5251789020925447\n",
      "average accuracy of logistic regression model:  0.844035337242898\n",
      "p value:  0.00000011121276604964\n",
      "average accuracy of majority model:  0.5251789020925447\n",
      "average accuracy of logistic regression model:  0.8380473991775486\n",
      "p value:  0.00000004297654161048\n",
      "average accuracy of majority model:  0.5251789020925447\n",
      "average accuracy of logistic regression model:  0.8596118434387678\n",
      "p value:  0.00000001508479227388\n",
      "average accuracy of majority model:  0.5251789020925447\n",
      "average accuracy of logistic regression model:  0.77560575922166\n",
      "p value:  0.00000280960933344991\n",
      "average accuracy of majority model:  0.5251789020925447\n",
      "average accuracy of logistic regression model:  0.8595901140919537\n",
      "p value:  0.00000012294964250483\n",
      "average accuracy of majority model:  0.5251789020925447\n",
      "average accuracy of logistic regression model:  0.7960298851522429\n",
      "p value:  0.00000124068126113534\n",
      "average accuracy of majority model:  0.5251789020925447\n",
      "average accuracy of logistic regression model:  0.6856825076181543\n",
      "p value:  0.00080723766474663798\n",
      "average accuracy of majority model:  0.5251789020925447\n",
      "average accuracy of logistic regression model:  0.6581224813711647\n",
      "p value:  0.00057720926679508588\n",
      "average accuracy of majority model:  0.5251789020925447\n",
      "average accuracy of logistic regression model:  0.6329220217052985\n",
      "p value:  0.00232239623027694683\n",
      "average accuracy of majority model:  0.5251789020925447\n",
      "average accuracy of logistic regression model:  0.6077288624128678\n",
      "p value:  0.01199244055442199794\n"
     ]
    }
   ],
   "source": [
    "process_bag_of_words(remove_stopwords = False, stemming = False)\n",
    "process_bag_of_words(remove_stopwords = True, stemming = False)\n",
    "process_bag_of_words(remove_stopwords = False, stemming = True)\n",
    "process_bag_of_words(remove_stopwords = True, stemming = True)\n",
    "\n",
    "process_tf_idf(remove_stopwords = False, stemming = False)\n",
    "process_tf_idf(remove_stopwords = True, stemming = False)\n",
    "process_tf_idf(remove_stopwords = False, stemming = True)\n",
    "process_tf_idf(remove_stopwords = True, stemming = True)\n",
    "\n",
    "process_word2vec(remove_stopwords=False, stemming=False)\n",
    "process_word2vec(remove_stopwords=True, stemming=False)\n",
    "process_word2vec(remove_stopwords=False, stemming=True)\n",
    "process_word2vec(remove_stopwords=True, stemming=True)"
   ]
  },
  {
   "cell_type": "markdown",
   "metadata": {},
   "source": [
    "#### Testing \"best\" classifier on test set\n",
    "From the result above, we know that for this specific case, TF-IDF model without removing stopwords and without stemming has the best performance. Then we test its performance on test set."
   ]
  },
  {
   "cell_type": "code",
   "execution_count": 115,
   "metadata": {},
   "outputs": [],
   "source": [
    "def test_tf_idf():\n",
    "    X_train, X_test, Y_train, Y_test = get_data()\n",
    "    \n",
    "    X_train = X_train.apply(lambda comment: preprocessing(comment, remove_stopwords = False, stemming = False))\n",
    "    X_test = X_test.apply(lambda comment: preprocessing(comment, remove_stopwords = False, stemming = False))\n",
    "    \n",
    "    tf_idf_vectorizer = TfidfVectorizer()\n",
    "\n",
    "    X_train_tf_idf = tf_idf_vectorizer.fit_transform(X_train)\n",
    "    \n",
    "    X_test_tf_idf = tf_idf_vectorizer.transform(X_test)\n",
    "    \n",
    "    ## logistic regression\n",
    "    lgm = LogisticRegression(C=10, random_state=0, solver='newton-cg', multi_class='multinomial')\n",
    "    lgm.fit(X_train_tf_idf, Y_train)\n",
    "\n",
    "    Y_result = lgm.predict(X_test_tf_idf)\n",
    "    \n",
    "    score = accuracy_score(Y_test, Y_result)\n",
    "    print(\"accuracy score of logistic regression model: \", score)"
   ]
  },
  {
   "cell_type": "code",
   "execution_count": 116,
   "metadata": {},
   "outputs": [
    {
     "name": "stdout",
     "output_type": "stream",
     "text": [
      "accuracy score of logistic regression model:  0.7990430622009569\n"
     ]
    }
   ],
   "source": [
    "test_tf_idf()"
   ]
  },
  {
   "cell_type": "markdown",
   "metadata": {},
   "source": [
    "### Task 4: Experiment on whether balancing dataset helps\n",
    "Question: will balancing training set help to improve the performance?\n",
    "#### Use RandomOverSampler to balance the training set"
   ]
  },
  {
   "cell_type": "code",
   "execution_count": 117,
   "metadata": {},
   "outputs": [],
   "source": [
    "def balance(train, test):\n",
    "    randomOverSampler = RandomOverSampler(random_state=42)\n",
    "    return randomOverSampler.fit_sample(train, test)   "
   ]
  },
  {
   "cell_type": "code",
   "execution_count": 118,
   "metadata": {},
   "outputs": [],
   "source": [
    "def process_bag_of_words_balanced(remove_stopwords, stemming):\n",
    "    X_train, X_test, Y_train, Y_test = get_data()\n",
    "    \n",
    "    X_train = X_train.apply(lambda comment: preprocessing(comment, remove_stopwords, stemming))\n",
    "    X_test = X_test.apply(lambda comment: preprocessing(comment, remove_stopwords, stemming))\n",
    "    \n",
    "    count_vectorizer = CountVectorizer()\n",
    "    X_train_bag_of_words = count_vectorizer.fit_transform(X_train)\n",
    "    \n",
    "    ## majority-vote classifier\n",
    "    majority = DummyClassifier(strategy='most_frequent', random_state=None, constant=None)\n",
    "\n",
    "    ## logistic regression\n",
    "    lgm = LogisticRegression(C=10, random_state=0, solver='newton-cg', multi_class='multinomial')\n",
    "    \n",
    "    X_train_balanced, Y_train_balanced = balance(X_train_bag_of_words, Y_train)\n",
    "    \n",
    "    scores_majority = cross_val_score(majority, X_train_bag_of_words, Y_train, cv=5)\n",
    "    scores_lgm_BOW = cross_val_score(lgm, X_train_balanced, Y_train_balanced, cv=5)\n",
    "    \n",
    "    statistic, p_value = ttest_ind(scores_lgm_BOW, scores_majority)\n",
    "    \n",
    "    print(\"average accuracy of majority model: \", np.mean(scores_majority))\n",
    "    print(\"average accuracy of logistic regression model: \", np.mean(scores_lgm_BOW))\n",
    "    print(\"p value: \", '%.20f' % p_value)"
   ]
  },
  {
   "cell_type": "code",
   "execution_count": 119,
   "metadata": {},
   "outputs": [
    {
     "name": "stdout",
     "output_type": "stream",
     "text": [
      "average accuracy of majority model:  0.5251789020925447\n",
      "average accuracy of logistic regression model:  0.8595872518286312\n",
      "p value:  0.00000000045436593501\n"
     ]
    }
   ],
   "source": [
    "process_bag_of_words_balanced(remove_stopwords=False, stemming=False)"
   ]
  },
  {
   "cell_type": "code",
   "execution_count": 120,
   "metadata": {},
   "outputs": [],
   "source": [
    "def process_tf_idf_balanced(remove_stopwords, stemming):\n",
    "    X_train, X_test, Y_train, Y_test = get_data()\n",
    "    \n",
    "    X_train = X_train.apply(lambda comment: preprocessing(comment, remove_stopwords, stemming))\n",
    "    X_test = X_test.apply(lambda comment: preprocessing(comment, remove_stopwords, stemming))\n",
    "    \n",
    "    tf_idf_vectorizer = TfidfVectorizer()\n",
    "    X_train_tf_idf = tf_idf_vectorizer.fit_transform(X_train)\n",
    "    \n",
    "    ## majority-vote classifier\n",
    "    majority = DummyClassifier(strategy='most_frequent', random_state=None, constant=None)\n",
    "\n",
    "    ## logistic regression\n",
    "    lgm = LogisticRegression(C=10, random_state=0, solver='newton-cg', multi_class='multinomial')\n",
    "    \n",
    "    X_train_balanced, Y_train_balanced = balance(X_train_tf_idf, Y_train)\n",
    "    \n",
    "    scores_majority = cross_val_score(majority, X_train_tf_idf, Y_train, cv=5)\n",
    "    scores_lgm_TFIDF = cross_val_score(lgm, X_train_balanced, Y_train_balanced, cv=5)\n",
    "    statistic, p_value = ttest_ind(scores_lgm_TFIDF, scores_majority)\n",
    "    \n",
    "    print(\"average accuracy of majority model: \", np.mean(scores_majority))\n",
    "    print(\"average accuracy of logistic regression model: \", np.mean(scores_lgm_TFIDF))\n",
    "    print(\"p value: \", '%.20f' % p_value)"
   ]
  },
  {
   "cell_type": "code",
   "execution_count": 121,
   "metadata": {},
   "outputs": [
    {
     "name": "stdout",
     "output_type": "stream",
     "text": [
      "average accuracy of majority model:  0.5251789020925447\n",
      "average accuracy of logistic regression model:  0.8652168234064787\n",
      "p value:  0.00000000012032765678\n"
     ]
    }
   ],
   "source": [
    "process_tf_idf_balanced(remove_stopwords=False, stemming=False)"
   ]
  },
  {
   "cell_type": "code",
   "execution_count": 122,
   "metadata": {},
   "outputs": [],
   "source": [
    "def process_word2vec_balanced(remove_stopwords, stemming):\n",
    "    X_train, X_test, Y_train, Y_test = get_data()\n",
    "    \n",
    "    X_train = X_train.apply(lambda comment: preprocessing(comment, remove_stopwords, stemming))\n",
    "    X_test = X_test.apply(lambda comment: preprocessing(comment, remove_stopwords, stemming))\n",
    "    \n",
    "    dense_vectors = []\n",
    "    for comment in X_train:\n",
    "        dense_vector = np.zeros(50)\n",
    "        word_count = 0\n",
    "        tokens = word_tokenize(comment)\n",
    "        for word in tokens:\n",
    "            if word in vector_map:\n",
    "                dense_vector += map[word]\n",
    "                word_count += 1\n",
    "        if word_count == 0:\n",
    "            dense_vectors.append(dense_vector)\n",
    "        else:\n",
    "            dense_vectors.append(dense_vector / word_count)\n",
    "    \n",
    "    X_train_word2vec = pd.DataFrame(dense_vectors)\n",
    "    \n",
    "    ## majority-vote classifier\n",
    "    majority = DummyClassifier(strategy='most_frequent', random_state=None, constant=None)\n",
    "\n",
    "    ## logistic regression\n",
    "    lgm = LogisticRegression(C=10, random_state=0, solver='newton-cg', multi_class='multinomial')\n",
    "    \n",
    "    X_train_balanced, Y_train_balanced = balance(X_train_word2vec, Y_train)\n",
    "    \n",
    "    scores_majority = cross_val_score(majority, X_train_word2vec, Y_train, cv=5)\n",
    "    scores_lgm_word2vec = cross_val_score(lgm, X_train_balanced, Y_train_balanced, cv=5)\n",
    "    statistic, p_value = ttest_ind(scores_lgm_word2vec, scores_majority)\n",
    "\n",
    "    print(\"average accuracy of majority model: \", np.mean(scores_majority))\n",
    "    print(\"average accuracy of logistic regression model: \", np.mean(scores_lgm_word2vec))\n",
    "    print(\"p value: \", '%.20f' % p_value)"
   ]
  },
  {
   "cell_type": "code",
   "execution_count": 123,
   "metadata": {},
   "outputs": [
    {
     "name": "stdout",
     "output_type": "stream",
     "text": [
      "average accuracy of majority model:  0.5251789020925447\n",
      "average accuracy of logistic regression model:  0.6744905956112853\n",
      "p value:  0.00016852175814685281\n"
     ]
    }
   ],
   "source": [
    "process_word2vec_balanced(remove_stopwords=False, stemming=False)"
   ]
  },
  {
   "cell_type": "markdown",
   "metadata": {},
   "source": [
    "#### Test TF-IDF classifier (trained on balanced dataset) on test set"
   ]
  },
  {
   "cell_type": "code",
   "execution_count": 124,
   "metadata": {},
   "outputs": [],
   "source": [
    "def test_balanced_tf_idf():\n",
    "    X_train, X_test, Y_train, Y_test = get_data()\n",
    "    \n",
    "    X_train = X_train.apply(lambda comment: preprocessing(comment, remove_stopwords = False, stemming = False))\n",
    "    X_test = X_test.apply(lambda comment: preprocessing(comment, remove_stopwords = False, stemming = False))\n",
    "    \n",
    "    tf_idf_vectorizer = TfidfVectorizer()\n",
    "\n",
    "    X_train_tf_idf = tf_idf_vectorizer.fit_transform(X_train)\n",
    "    \n",
    "    X_test_tf_idf = tf_idf_vectorizer.transform(X_test)\n",
    "    \n",
    "    X_train_balanced, Y_train_balanced = balance(X_train_tf_idf, Y_train)\n",
    "    \n",
    "    ## logistic regression\n",
    "    lgm = LogisticRegression(C=10, random_state=0, solver='newton-cg', multi_class='multinomial')\n",
    "    lgm.fit(X_train_balanced, Y_train_balanced)\n",
    "\n",
    "    Y_result = lgm.predict(X_test_tf_idf)\n",
    "    \n",
    "    score = accuracy_score(Y_test, Y_result)\n",
    "    print(\"accuracy score of logistic regression model: \", score)"
   ]
  },
  {
   "cell_type": "code",
   "execution_count": 125,
   "metadata": {},
   "outputs": [
    {
     "name": "stdout",
     "output_type": "stream",
     "text": [
      "accuracy score of logistic regression model:  0.7894736842105263\n"
     ]
    }
   ],
   "source": [
    "test_balanced_tf_idf()"
   ]
  },
  {
   "cell_type": "code",
   "execution_count": null,
   "metadata": {},
   "outputs": [],
   "source": []
  }
 ],
 "metadata": {
  "kernelspec": {
   "display_name": "Python 3",
   "language": "python",
   "name": "python3"
  },
  "language_info": {
   "codemirror_mode": {
    "name": "ipython",
    "version": 3
   },
   "file_extension": ".py",
   "mimetype": "text/x-python",
   "name": "python",
   "nbconvert_exporter": "python",
   "pygments_lexer": "ipython3",
   "version": "3.7.4"
  }
 },
 "nbformat": 4,
 "nbformat_minor": 2
}
