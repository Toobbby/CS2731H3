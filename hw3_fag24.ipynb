{
 "cells": [
  {
   "cell_type": "markdown",
   "metadata": {},
   "source": [
    "# Classification and Vector Semantics\n",
    "\n",
    "CS2731 Homework 3, Fall 2020\n",
    "\n",
    "## Author\n",
    "[Fangzheng Guo](fag24@pitt.edu)"
   ]
  },
  {
   "cell_type": "markdown",
   "metadata": {},
   "source": [
    "### Step 1: Global experimental framework set up, make appropriate cross-validation splits."
   ]
  },
  {
   "cell_type": "code",
   "execution_count": 1,
   "metadata": {},
   "outputs": [],
   "source": [
    "# import\n",
    "import pandas as pd\n",
    "import re\n",
    "import numpy as np\n",
    "from sklearn.model_selection import train_test_split\n",
    "from sklearn.feature_extraction.text import CountVectorizer\n",
    "from sklearn.feature_extraction.text import TfidfVectorizer\n",
    "from sklearn.model_selection import cross_val_score\n",
    "from sklearn.dummy import DummyClassifier\n",
    "from sklearn.linear_model import LogisticRegression\n",
    "from sklearn.metrics import accuracy_score"
   ]
  },
  {
   "cell_type": "code",
   "execution_count": 2,
   "metadata": {},
   "outputs": [
    {
     "name": "stderr",
     "output_type": "stream",
     "text": [
      "[nltk_data] Downloading package stopwords to /Users/fguo/nltk_data...\n",
      "[nltk_data]   Package stopwords is already up-to-date!\n",
      "[nltk_data] Downloading package punkt to /Users/fguo/nltk_data...\n",
      "[nltk_data]   Package punkt is already up-to-date!\n"
     ]
    }
   ],
   "source": [
    "# import\n",
    "from scipy.stats import ttest_ind\n",
    "from imblearn.over_sampling import RandomOverSampler\n",
    "import nltk\n",
    "nltk.download('stopwords')\n",
    "nltk.download('punkt')\n",
    "from nltk.tokenize import word_tokenize\n",
    "from nltk.stem import PorterStemmer"
   ]
  },
  {
   "cell_type": "code",
   "execution_count": 5,
   "metadata": {},
   "outputs": [
    {
     "name": "stdout",
     "output_type": "stream",
     "text": [
      "1035    And with hindsight being what it is, lets just...\n",
      "280     The document it is arbitrating on IS a UN docu...\n",
      "535     He’s hardly the choice of the establishment, m...\n",
      "822     Europe may be failing Syrian refugees...'NONSE...\n",
      "643     Obviously the only people fooled were Jeffrey'...\n",
      "                              ...                        \n",
      "688     Well look a surprise! If this guy running the ...\n",
      "572     The polls were wrong. Nearly all of them, and ...\n",
      "616     On all of the articles on Trump's victory the ...\n",
      "457     I agree with her that the problems stem from c...\n",
      "1002    While your conclusion that Ms. Clinton lost th...\n",
      "Name: comment_text, Length: 209, dtype: object\n"
     ]
    }
   ],
   "source": [
    "# split(80% training, 20% testing)\n",
    "df = pd.read_excel(\"SFUcorpus.xlsx\")\n",
    "X = df['comment_text']\n",
    "Y = df['is_constructive']\n",
    "\n",
    "X_train, X_test, Y_train, Y_test = train_test_split(X, Y, test_size = 0.2, train_size = 0.8, random_state = 42)"
   ]
  },
  {
   "cell_type": "markdown",
   "metadata": {},
   "source": [
    "### Step 2: \n",
    "#### Extract and preprocess the comment text to determine the vocabulary set."
   ]
  },
  {
   "cell_type": "code",
   "execution_count": null,
   "metadata": {},
   "outputs": [],
   "source": []
  }
 ],
 "metadata": {
  "kernelspec": {
   "display_name": "Python 3",
   "language": "python",
   "name": "python3"
  },
  "language_info": {
   "codemirror_mode": {
    "name": "ipython",
    "version": 3
   },
   "file_extension": ".py",
   "mimetype": "text/x-python",
   "name": "python",
   "nbconvert_exporter": "python",
   "pygments_lexer": "ipython3",
   "version": "3.7.4"
  }
 },
 "nbformat": 4,
 "nbformat_minor": 2
}
