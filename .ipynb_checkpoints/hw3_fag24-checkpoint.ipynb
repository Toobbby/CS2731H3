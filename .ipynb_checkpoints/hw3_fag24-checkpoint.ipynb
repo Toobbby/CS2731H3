{
 "cells": [
  {
   "cell_type": "markdown",
   "metadata": {},
   "source": [
    "# Classification and Vector Semantics\n",
    "\n",
    "CS2731 Homework 3, Fall 2020\n",
    "\n",
    "## Author\n",
    "[Fangzheng Guo](fag24@pitt.edu)"
   ]
  },
  {
   "cell_type": "markdown",
   "metadata": {},
   "source": [
    "### Step 1: Global experimental framework set up, make appropriate cross-validation splits."
   ]
  },
  {
   "cell_type": "code",
   "execution_count": 31,
   "metadata": {},
   "outputs": [],
   "source": [
    "# import\n",
    "import pandas as pd\n",
    "import re\n",
    "import numpy as np\n",
    "from sklearn.model_selection import train_test_split\n",
    "from sklearn.feature_extraction.text import CountVectorizer\n",
    "from sklearn.feature_extraction.text import TfidfVectorizer\n",
    "from sklearn.model_selection import cross_val_score\n",
    "from sklearn.dummy import DummyClassifier\n",
    "from sklearn.linear_model import LogisticRegression\n",
    "from sklearn.metrics import accuracy_score"
   ]
  },
  {
   "cell_type": "code",
   "execution_count": 32,
   "metadata": {},
   "outputs": [
    {
     "name": "stderr",
     "output_type": "stream",
     "text": [
      "[nltk_data] Downloading package stopwords to /Users/fguo/nltk_data...\n",
      "[nltk_data]   Package stopwords is already up-to-date!\n",
      "[nltk_data] Downloading package punkt to /Users/fguo/nltk_data...\n",
      "[nltk_data]   Package punkt is already up-to-date!\n"
     ]
    }
   ],
   "source": [
    "# import\n",
    "from scipy.stats import ttest_ind\n",
    "from imblearn.over_sampling import RandomOverSampler\n",
    "import nltk\n",
    "nltk.download('stopwords')\n",
    "nltk.download('punkt')\n",
    "from nltk.tokenize import word_tokenize\n",
    "from nltk.stem import PorterStemmer\n",
    "from nltk.corpus import stopwords"
   ]
  },
  {
   "cell_type": "code",
   "execution_count": 33,
   "metadata": {},
   "outputs": [],
   "source": [
    "# split(80% training, 20% testing)\n",
    "def get_data():\n",
    "    df = pd.read_excel(\"SFUcorpus.xlsx\")\n",
    "    X = df['comment_text']\n",
    "    Y = df['is_constructive']\n",
    "\n",
    "    X_train, X_test, Y_train, Y_test = train_test_split(X, Y, test_size = 0.2, train_size = 0.8, random_state = 42)\n",
    "    \n",
    "    # drop empty lines\n",
    "    X_train.dropna(axis=0, how='any', inplace=True)\n",
    "    X_test.dropna(axis=0, how='any', inplace=True)\n",
    "    \n",
    "    return X_train, X_test, Y_train, Y_test"
   ]
  },
  {
   "cell_type": "markdown",
   "metadata": {},
   "source": [
    "### Step 2: \n",
    "#### Extract and preprocess the comment text to determine the vocabulary set.\n",
    "for preprocessing, my approach includes:\n",
    "- remove all symbols (for example '.', '?') in text, convert all characters to lower-case\n",
    "- remove stopwords (useless words) in text\n",
    "- use Porter Stemmer to do stemming for every word left in text"
   ]
  },
  {
   "cell_type": "code",
   "execution_count": 34,
   "metadata": {},
   "outputs": [],
   "source": [
    "stop_words = set(stopwords.words('english'))\n",
    "def preprocessing(comment, remove_stopwords, stemming):\n",
    "    comment = re.sub('[^a-z0-9\\s]', '', comment.lower())\n",
    "    word_list = comment.split(' ')\n",
    "    if stopwords:\n",
    "        word_list = [word for word in word_list if word not in stop_words]\n",
    "    if stemming:\n",
    "        porter_stemmer = PorterStemmer()\n",
    "        for word in word_list:\n",
    "            word = porter_stemmer.stem(word)\n",
    "    return ' '.join(word_list)"
   ]
  },
  {
   "cell_type": "markdown",
   "metadata": {},
   "source": [
    "#### Train a logistic regression classifier using bag of words, record the performance of your logistic regression classifier using cross-validation."
   ]
  },
  {
   "cell_type": "code",
   "execution_count": 35,
   "metadata": {},
   "outputs": [],
   "source": [
    "def process_bag_of_words(remove_stopwords, stemming):\n",
    "    X_train, X_test, Y_train, Y_test = get_data()\n",
    "    \n",
    "    X_train = X_train.apply(lambda comment: preprocessing(comment, remove_stopwords, stemming))\n",
    "    X_test = X_test.apply(lambda comment: preprocessing(comment, remove_stopwords, stemming))\n",
    "    \n",
    "    count_vectorizer = CountVectorizer()\n",
    "    X_train_bag_of_words = count_vectorizer.fit_transform(X_train)\n",
    "    \n",
    "    ## majority-vote classifier\n",
    "    majority = DummyClassifier(strategy='most_frequent', random_state=None, constant=None)\n",
    "\n",
    "    ## logistic regression\n",
    "    lgm = LogisticRegression(C=10, random_state=0, solver='newton-cg', multi_class='multinomial')\n",
    "    \n",
    "    scores_majority = cross_val_score(majority, X_train_bag_of_words, Y_train, cv=5)\n",
    "    scores_lgm_BOW = cross_val_score(lgm, X_train_bag_of_words, Y_train, cv=5)\n",
    "    print(\"average accuracy of majority model: \", np.mean(scores_majority))\n",
    "    print(\"average accuracy of logistic regression model: \", np.mean(scores_lgm_BOW))"
   ]
  },
  {
   "cell_type": "code",
   "execution_count": 36,
   "metadata": {},
   "outputs": [
    {
     "name": "stdout",
     "output_type": "stream",
     "text": [
      "average accuracy of majority model:  0.5251789020925447\n",
      "average accuracy of logistic regression model:  0.8176518735334838\n"
     ]
    }
   ],
   "source": [
    "process_bag_of_words(remove_stopwords = False, stemming = False)"
   ]
  },
  {
   "cell_type": "code",
   "execution_count": null,
   "metadata": {},
   "outputs": [],
   "source": []
  }
 ],
 "metadata": {
  "kernelspec": {
   "display_name": "Python 3",
   "language": "python",
   "name": "python3"
  },
  "language_info": {
   "codemirror_mode": {
    "name": "ipython",
    "version": 3
   },
   "file_extension": ".py",
   "mimetype": "text/x-python",
   "name": "python",
   "nbconvert_exporter": "python",
   "pygments_lexer": "ipython3",
   "version": "3.7.4"
  }
 },
 "nbformat": 4,
 "nbformat_minor": 2
}
